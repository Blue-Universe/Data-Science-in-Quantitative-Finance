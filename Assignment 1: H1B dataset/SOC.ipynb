{
 "cells": [
  {
   "cell_type": "code",
   "execution_count": null,
   "metadata": {},
   "outputs": [],
   "source": [
    "import pandas as pd\n",
    "import re\n",
    "import requests\n",
    "from bs4 import BeautifulSoup"
   ]
  },
  {
   "cell_type": "code",
   "execution_count": null,
   "metadata": {},
   "outputs": [],
   "source": [
    "url = 'https://www.bls.gov/oes/current/oes_stru.htm'"
   ]
  },
  {
   "cell_type": "code",
   "execution_count": null,
   "metadata": {},
   "outputs": [],
   "source": [
    "from fake_useragent import UserAgent\n",
    "ua = UserAgent()"
   ]
  },
  {
   "cell_type": "code",
   "execution_count": null,
   "metadata": {},
   "outputs": [],
   "source": [
    "header = {'User-Agent':str(ua.chrome)}\n",
    "htmlContent = requests.get(url, headers=header)"
   ]
  },
  {
   "cell_type": "code",
   "execution_count": null,
   "metadata": {},
   "outputs": [],
   "source": [
    "soup = BeautifulSoup(htmlContent.text, 'html.parser')\n",
    "x =  soup.find_all('li')\n",
    "SOC_data = pd.DataFrame(columns=['SOC Code', 'SOC Title'])\n",
    "for i in x:\n",
    "    #print(i.get_text())\n",
    "    list1 = re.findall(r'\\d{2}-\\d{4}[^(0-9)]+',i.get_text())\n",
    "    for j in list1:\n",
    "        #print(j[:7])\n",
    "        #print(j[7:])\n",
    "        SOC_data = SOC_data.append([{'SOC Code':j[:7], 'SOC Title':j[7:]}],ignore_index=True)"
   ]
  },
  {
   "cell_type": "code",
   "execution_count": null,
   "metadata": {},
   "outputs": [],
   "source": [
    "def deletern(x):\n",
    "    return x.replace('\\n','').replace('\\xa0','').replace('\\r','')\n",
    "\n",
    "SOC_data['SOC Title']=SOC_data['SOC Title'].apply(deletern)\n",
    "result1 = SOC_data.drop_duplicates(subset=['SOC Code'])\n",
    "result2 = result1.reset_index(drop=True)"
   ]
  },
  {
   "cell_type": "code",
   "execution_count": null,
   "metadata": {},
   "outputs": [],
   "source": [
    "result2.to_pickle('soc.pkl')"
   ]
  }
 ],
 "metadata": {
  "kernelspec": {
   "display_name": "Python 3",
   "language": "python",
   "name": "python3"
  },
  "language_info": {
   "codemirror_mode": {
    "name": "ipython",
    "version": 3
   },
   "file_extension": ".py",
   "mimetype": "text/x-python",
   "name": "python",
   "nbconvert_exporter": "python",
   "pygments_lexer": "ipython3",
   "version": "3.6.8"
  }
 },
 "nbformat": 4,
 "nbformat_minor": 2
}
