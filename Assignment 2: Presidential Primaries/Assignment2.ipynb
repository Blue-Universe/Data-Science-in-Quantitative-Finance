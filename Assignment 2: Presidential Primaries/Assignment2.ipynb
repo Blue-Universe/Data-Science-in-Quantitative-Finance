{
 "cells": [
  {
   "cell_type": "code",
   "execution_count": 1,
   "metadata": {},
   "outputs": [],
   "source": [
    "import re\n",
    "import requests\n",
    "from bs4 import BeautifulSoup\n",
    "import numpy as np\n",
    "import pandas as pd\n",
    "from bqplot import *\n",
    "from bqplot import pyplot as plt\n",
    "from ipywidgets import Layout"
   ]
  },
  {
   "cell_type": "markdown",
   "metadata": {},
   "source": [
    "## Scrape and organize the Data"
   ]
  },
  {
   "cell_type": "code",
   "execution_count": 2,
   "metadata": {},
   "outputs": [],
   "source": [
    "url = 'https://www.politico.com/mapdata-2016/2016-election/primary/results/map/president/'"
   ]
  },
  {
   "cell_type": "code",
   "execution_count": 3,
   "metadata": {},
   "outputs": [],
   "source": [
    "from fake_useragent import UserAgent\n",
    "ua = UserAgent()\n",
    "header = {'User-Agent':str(ua.chrome)}\n",
    "htmlContent = requests.get(url, headers=header)"
   ]
  },
  {
   "cell_type": "code",
   "execution_count": 4,
   "metadata": {},
   "outputs": [],
   "source": [
    "soup = BeautifulSoup(htmlContent.text, 'html.parser')\n",
    "x =  soup.find_all('article',attrs=\"timeline-group\")"
   ]
  },
  {
   "cell_type": "code",
   "execution_count": 5,
   "metadata": {},
   "outputs": [],
   "source": [
    "df_results = pd.DataFrame(columns = ['electiontype','state','date','party','candidate','votes','%votes','delegates'])\n",
    "for i in x:\n",
    "    state = i.find_all('h3')[0].get_text().strip()\n",
    "    electiontype = i.find_all('h4')[0].get_text().replace('\\n','').replace(' ','').replace(',','').replace('Presidential','')\n",
    "    date = i.find_all('p',attrs=\"timestamp\")[0].get_text().strip()\n",
    "    dem = i.find_all('div',attrs=re.compile(r'results-data pos-.* contains-democrat'))[0].find_all('tr',attrs=\"type-democrat\")\n",
    "    for j in dem:\n",
    "        candidate = j.find_all('span',attrs=\"name-combo\")[0].get_text()\n",
    "        percentage = j.find_all('span',attrs=\"percentage-combo\")[0].get_text()\n",
    "        votes = int(j.find_all('td',attrs=\"results-popular\")[0].get_text().replace(',',''))\n",
    "        y = j.find_all('td',attrs=\"delegates-cell\")\n",
    "        try:\n",
    "            delegates = y[0].get_text()\n",
    "        except:\n",
    "            delegates = np.nan\n",
    "        df_results=df_results.append(pd.Series([electiontype,state,date,'DEM',candidate,votes,percentage,delegates],\n",
    "                                               index = df_results.columns),ignore_index=True)\n",
    "    \n",
    "    try:\n",
    "        rep = i.find_all('div',attrs=re.compile(r'results-data pos-.* contains-republican'))\\\n",
    "        [0].find_all('tr',attrs=\"type-republican\")# In case there is no data.\n",
    "        for j in rep:\n",
    "            candidate = j.find_all('span',attrs=\"name-combo\")[0].get_text()\n",
    "            percentage = j.find_all('span',attrs=\"percentage-combo\")[0].get_text()\n",
    "            votes = int(j.find_all('td',attrs=\"results-popular\")[0].get_text().replace(',',''))\n",
    "            y = j.find_all('td',attrs=\"delegates-cell\")\n",
    "            try:\n",
    "                delegates = y[0].get_text()\n",
    "            except:\n",
    "                delegates = np.nan\n",
    "            df_results=df_results.append(pd.Series([electiontype,state,date,'GOP',candidate,votes,percentage,delegates],\n",
    "                                                   index = df_results.columns),ignore_index=True)\n",
    "    except:\n",
    "        pass"
   ]
  },
  {
   "cell_type": "code",
   "execution_count": 6,
   "metadata": {},
   "outputs": [],
   "source": [
    "def cleantype(x):\n",
    "    '''\n",
    "    To make electiontype the same.\n",
    "    '''\n",
    "    if x=='Primary' or x=='Caucus':\n",
    "        return x\n",
    "    elif x == 'Caucuses':\n",
    "        return 'Caucus'\n",
    "    else:\n",
    "        return 'Primary'"
   ]
  },
  {
   "cell_type": "code",
   "execution_count": 7,
   "metadata": {},
   "outputs": [
    {
     "data": {
      "text/html": [
       "<div>\n",
       "<style scoped>\n",
       "    .dataframe tbody tr th:only-of-type {\n",
       "        vertical-align: middle;\n",
       "    }\n",
       "\n",
       "    .dataframe tbody tr th {\n",
       "        vertical-align: top;\n",
       "    }\n",
       "\n",
       "    .dataframe thead th {\n",
       "        text-align: right;\n",
       "    }\n",
       "</style>\n",
       "<table border=\"1\" class=\"dataframe\">\n",
       "  <thead>\n",
       "    <tr style=\"text-align: right;\">\n",
       "      <th></th>\n",
       "      <th></th>\n",
       "      <th></th>\n",
       "      <th></th>\n",
       "      <th>candidate</th>\n",
       "      <th>votes</th>\n",
       "      <th>%votes</th>\n",
       "      <th>delegates</th>\n",
       "    </tr>\n",
       "    <tr>\n",
       "      <th>electiontype</th>\n",
       "      <th>state</th>\n",
       "      <th>date</th>\n",
       "      <th>party</th>\n",
       "      <th></th>\n",
       "      <th></th>\n",
       "      <th></th>\n",
       "      <th></th>\n",
       "    </tr>\n",
       "  </thead>\n",
       "  <tbody>\n",
       "    <tr>\n",
       "      <td rowspan=\"5\" valign=\"top\">Primary</td>\n",
       "      <td rowspan=\"5\" valign=\"top\">Alabama</td>\n",
       "      <td rowspan=\"5\" valign=\"top\">March 1, 2016</td>\n",
       "      <td>DEM</td>\n",
       "      <td>Winner H. Clinton</td>\n",
       "      <td>309928</td>\n",
       "      <td>77.8%</td>\n",
       "      <td>51</td>\n",
       "    </tr>\n",
       "    <tr>\n",
       "      <td>DEM</td>\n",
       "      <td>B. Sanders</td>\n",
       "      <td>76399</td>\n",
       "      <td>19.2%</td>\n",
       "      <td>9</td>\n",
       "    </tr>\n",
       "    <tr>\n",
       "      <td>DEM</td>\n",
       "      <td>Uncommitted</td>\n",
       "      <td>9534</td>\n",
       "      <td>2.4%</td>\n",
       "      <td></td>\n",
       "    </tr>\n",
       "    <tr>\n",
       "      <td>DEM</td>\n",
       "      <td>M. O'Malley</td>\n",
       "      <td>1489</td>\n",
       "      <td>0.4%</td>\n",
       "      <td></td>\n",
       "    </tr>\n",
       "    <tr>\n",
       "      <td>DEM</td>\n",
       "      <td>R. De La Fuente</td>\n",
       "      <td>814</td>\n",
       "      <td>0.2%</td>\n",
       "      <td></td>\n",
       "    </tr>\n",
       "    <tr>\n",
       "      <td>...</td>\n",
       "      <td>...</td>\n",
       "      <td>...</td>\n",
       "      <td>...</td>\n",
       "      <td>...</td>\n",
       "      <td>...</td>\n",
       "      <td>...</td>\n",
       "      <td>...</td>\n",
       "    </tr>\n",
       "    <tr>\n",
       "      <td rowspan=\"5\" valign=\"top\">Caucus</td>\n",
       "      <td rowspan=\"5\" valign=\"top\">Wyoming</td>\n",
       "      <td rowspan=\"5\" valign=\"top\">March 12, 2016</td>\n",
       "      <td>GOP</td>\n",
       "      <td>Uncommitted</td>\n",
       "      <td>68</td>\n",
       "      <td>7.0%</td>\n",
       "      <td>4</td>\n",
       "    </tr>\n",
       "    <tr>\n",
       "      <td>GOP</td>\n",
       "      <td>B. Carson</td>\n",
       "      <td>0</td>\n",
       "      <td>0.0%</td>\n",
       "      <td></td>\n",
       "    </tr>\n",
       "    <tr>\n",
       "      <td>GOP</td>\n",
       "      <td>J. Kasich</td>\n",
       "      <td>0</td>\n",
       "      <td>0.0%</td>\n",
       "      <td></td>\n",
       "    </tr>\n",
       "    <tr>\n",
       "      <td>GOP</td>\n",
       "      <td>Other</td>\n",
       "      <td>0</td>\n",
       "      <td>0.0%</td>\n",
       "      <td></td>\n",
       "    </tr>\n",
       "    <tr>\n",
       "      <td>GOP</td>\n",
       "      <td>R. Paul</td>\n",
       "      <td>0</td>\n",
       "      <td>0.0%</td>\n",
       "      <td></td>\n",
       "    </tr>\n",
       "  </tbody>\n",
       "</table>\n",
       "<p>734 rows × 4 columns</p>\n",
       "</div>"
      ],
      "text/plain": [
       "                                                    candidate   votes %votes  \\\n",
       "electiontype state   date           party                                      \n",
       "Primary      Alabama March 1, 2016  DEM     Winner H. Clinton  309928  77.8%   \n",
       "                                    DEM            B. Sanders   76399  19.2%   \n",
       "                                    DEM           Uncommitted    9534   2.4%   \n",
       "                                    DEM           M. O'Malley    1489   0.4%   \n",
       "                                    DEM       R. De La Fuente     814   0.2%   \n",
       "...                                                       ...     ...    ...   \n",
       "Caucus       Wyoming March 12, 2016 GOP           Uncommitted      68   7.0%   \n",
       "                                    GOP             B. Carson       0   0.0%   \n",
       "                                    GOP             J. Kasich       0   0.0%   \n",
       "                                    GOP                 Other       0   0.0%   \n",
       "                                    GOP               R. Paul       0   0.0%   \n",
       "\n",
       "                                          delegates  \n",
       "electiontype state   date           party            \n",
       "Primary      Alabama March 1, 2016  DEM          51  \n",
       "                                    DEM           9  \n",
       "                                    DEM              \n",
       "                                    DEM              \n",
       "                                    DEM              \n",
       "...                                             ...  \n",
       "Caucus       Wyoming March 12, 2016 GOP           4  \n",
       "                                    GOP              \n",
       "                                    GOP              \n",
       "                                    GOP              \n",
       "                                    GOP              \n",
       "\n",
       "[734 rows x 4 columns]"
      ]
     },
     "execution_count": 7,
     "metadata": {},
     "output_type": "execute_result"
    }
   ],
   "source": [
    "df_results['electiontype'] = df_results['electiontype'].apply(cleantype)\n",
    "df_results = df_results.set_index(['electiontype','state','date','party'])\n",
    "df_results"
   ]
  },
  {
   "cell_type": "markdown",
   "metadata": {},
   "source": [
    "## Visualize the data using BQPlot"
   ]
  },
  {
   "cell_type": "code",
   "execution_count": 8,
   "metadata": {},
   "outputs": [],
   "source": [
    "state_codes = pd.read_csv('state_codes.csv')"
   ]
  },
  {
   "cell_type": "markdown",
   "metadata": {},
   "source": [
    "### For DEM primaries"
   ]
  },
  {
   "cell_type": "code",
   "execution_count": 9,
   "metadata": {},
   "outputs": [],
   "source": [
    "Winner_DEM = pd.DataFrame(df_results.loc[('Primary',slice(None),slice(None),'DEM'),:].groupby(level = 1).\\\n",
    "    apply(lambda x: x.sort_values(by=['votes'],ascending=False).iloc[0]['candidate']))\n",
    "# Build a map from state code to the winner\n",
    "color_data_DEM = dict(zip(pd.merge(state_codes.set_index('Name'),Winner_DEM,left_index=True, right_index=True)['FIPS'].values,\n",
    "                      pd.merge(state_codes.set_index('Name'),Winner_DEM,left_index=True, right_index=True)[0].values))\n"
   ]
  },
  {
   "cell_type": "code",
   "execution_count": 10,
   "metadata": {},
   "outputs": [],
   "source": [
    "#Draw US map\n",
    "sc_geo_DEM = AlbersUSA()\n",
    "sc_c1_DEM = OrdinalColorScale(domain=['B. Sanders','H. Clinton'], colors=[ '#83bc5e','#5fa0d6'])\n",
    "\n",
    "\n",
    "map_styles_DEM = {'color': color_data_DEM,\n",
    "              'scales': {'projection': sc_geo_DEM, 'color': sc_c1_DEM}, 'colors': {'default_color': 'Grey'}}\n",
    "\n",
    "axis_DEM = ColorAxis(scale=sc_c1_DEM)\n",
    "\n",
    "states_map_DEM = Map(map_data=topo_load('map_data/USStatesMap.json'),**map_styles_DEM)\n",
    "map_fig_DEM = Figure(marks=[states_map_DEM], axes=[axis_DEM],\n",
    "                 fig_margin = {'top':30, 'bottom':30, 'left':30, 'right':30},\n",
    "                 title='Winner from Primary of Democratic - State Wise')"
   ]
  },
  {
   "cell_type": "code",
   "execution_count": 11,
   "metadata": {},
   "outputs": [],
   "source": [
    "def get_state_data_DEM(name):#get state election data\n",
    "    try:\n",
    "        return df_results.loc[('Primary',name,slice(None),'DEM'),:]\n",
    "    except:\n",
    "        return None"
   ]
  },
  {
   "cell_type": "code",
   "execution_count": 12,
   "metadata": {},
   "outputs": [],
   "source": [
    "#Draw Bar plot.\n",
    "names_sc_DEM = OrdinalScale(domain=['Obama', 'McCain'])\n",
    "vote_sc_y_DEM = LinearScale()\n",
    "labels_DEM = Label(scales={\"x\":vote_sc_y_DEM,\"y\":names_sc_DEM},orientation=\"horizontal\",colors=[\"#000000\"])\n",
    "names_ax_DEM = Axis(scale=names_sc_DEM,orientation='vertical')\n",
    "vote_ax_DEM = Axis(scale=vote_sc_y_DEM, label='Votes Received')\n",
    "\n",
    "vote_bars_DEM = Bars(scales={'x':names_sc_DEM, 'y': vote_sc_y_DEM},orientation=\"horizontal\")\n",
    "\n",
    "bar_fig_DEM = Figure(marks=[vote_bars_DEM,labels_DEM], axes=[vote_ax_DEM,names_ax_DEM], title='Votes Received')"
   ]
  },
  {
   "cell_type": "code",
   "execution_count": 13,
   "metadata": {},
   "outputs": [],
   "source": [
    "def hover_callback_DEM(name, value):\n",
    "    polls_DEM = get_state_data_DEM(value['data']['name'])\n",
    "    vote_bars_DEM.y = [0.]\n",
    "    labels_DEM.text = None\n",
    "    labels_DEM.x = None\n",
    "    labels_DEM.y = None\n",
    "    if polls_DEM is None or polls_DEM.shape[0] == 0:\n",
    "        bar_fig_DEM.title=('Votes Received - '+value['data']['name'])\n",
    "        return\n",
    "    names_sc_DEM.domain = list(polls_DEM['candidate'].values)\n",
    "    bar_fig_DEM.title=('Votes Received - '+value['data']['name'])\n",
    "    vote_bars_DEM.x = list(polls_DEM['candidate'].values)\n",
    "    vote_bars_DEM.y = list(polls_DEM['votes'].values)\n",
    "    labels_DEM.x = np.zeros(len(polls_DEM))\n",
    "    labels_DEM.y = vote_bars_DEM.x\n",
    "    labels_DEM.text = list(polls_DEM['votes'].values)"
   ]
  },
  {
   "cell_type": "code",
   "execution_count": 14,
   "metadata": {},
   "outputs": [],
   "source": [
    "states_map_DEM.on_hover(hover_callback_DEM)\n",
    "states_map_DEM.tooltip = bar_fig_DEM"
   ]
  },
  {
   "cell_type": "code",
   "execution_count": 15,
   "metadata": {},
   "outputs": [
    {
     "data": {
      "application/vnd.jupyter.widget-view+json": {
       "model_id": "862f05950c7140e5988a30d4222f68ee",
       "version_major": 2,
       "version_minor": 0
      },
      "text/plain": [
       "Figure(axes=[ColorAxis(scale=OrdinalColorScale(colors=['#83bc5e', '#5fa0d6'], domain=['B. Sanders', 'H. Clinto…"
      ]
     },
     "metadata": {},
     "output_type": "display_data"
    }
   ],
   "source": [
    "map_fig_DEM"
   ]
  },
  {
   "cell_type": "markdown",
   "metadata": {},
   "source": [
    "### For GOP primaries"
   ]
  },
  {
   "cell_type": "code",
   "execution_count": 16,
   "metadata": {},
   "outputs": [],
   "source": [
    "Winner_GOP = pd.DataFrame(df_results.loc[('Primary',slice(None),slice(None),'GOP'),:].groupby(level = 1).\\\n",
    "    apply(lambda x: x.sort_values(by=['votes'],ascending=False).iloc[0]['candidate']))\n",
    "color_data_GOP = dict(zip(pd.merge(state_codes.set_index('Name'),Winner_GOP,left_index=True, right_index=True)['FIPS'].values,\n",
    "                      pd.merge(state_codes.set_index('Name'),Winner_GOP,left_index=True, right_index=True)[0].values))"
   ]
  },
  {
   "cell_type": "code",
   "execution_count": 17,
   "metadata": {},
   "outputs": [],
   "source": [
    "sc_geo_GOP = AlbersUSA()\n",
    "sc_c1_GOP = OrdinalColorScale(domain=[\"D. Trump\", \"T. Cruz\", \"J. Kasich\"], colors=[ \"#ba3b3f\",\"#cfa41f\",\"#1a8888\"])\n",
    "\n",
    "\n",
    "map_styles_GOP = {'color': color_data_GOP,\n",
    "              'scales': {'projection': sc_geo_GOP, 'color': sc_c1_GOP}, 'colors': {'default_color': 'Grey'}}\n",
    "\n",
    "axis_GOP = ColorAxis(scale=sc_c1_GOP)\n",
    "\n",
    "states_map_GOP = Map(map_data=topo_load('map_data/USStatesMap.json'),**map_styles_GOP)\n",
    "map_fig_GOP = Figure(marks=[states_map_GOP], axes=[axis_GOP],\n",
    "                 fig_margin = {'top':30, 'bottom':30, 'left':30, 'right':30},\n",
    "                 title='Winner from Primary of Republicans - State Wise')"
   ]
  },
  {
   "cell_type": "code",
   "execution_count": 18,
   "metadata": {},
   "outputs": [],
   "source": [
    "def get_state_data_GOP(name):\n",
    "    return df_results.loc[('Primary',name,slice(None),'GOP'),:]"
   ]
  },
  {
   "cell_type": "code",
   "execution_count": 19,
   "metadata": {},
   "outputs": [],
   "source": [
    "names_sc_GOP = OrdinalScale(domain=['Obama', 'McCain'])\n",
    "vote_sc_y_GOP = LinearScale()\n",
    "labels_GOP = Label(scales={\"x\":vote_sc_y_GOP,\"y\":names_sc_GOP},orientation=\"horizontal\",colors=[\"#000000\"])\n",
    "names_ax_GOP = Axis(scale=names_sc_GOP,orientation='vertical')\n",
    "vote_ax_GOP = Axis(scale=vote_sc_y_GOP, label='Votes Received')\n",
    "\n",
    "vote_bars_GOP = Bars(scales={'x':names_sc_GOP, 'y': vote_sc_y_GOP},orientation=\"horizontal\")\n",
    "\n",
    "bar_fig_GOP = Figure(marks=[vote_bars_GOP,labels_GOP], axes=[vote_ax_GOP,names_ax_GOP], title='Votes Received')"
   ]
  },
  {
   "cell_type": "code",
   "execution_count": 20,
   "metadata": {},
   "outputs": [],
   "source": [
    "def hover_callback_GOP(name, value):\n",
    "    polls_GOP = get_state_data_GOP(value['data']['name'])\n",
    "    vote_bars_GOP.y = [0.]\n",
    "    labels_GOP.text = None\n",
    "    labels_GOP.x = None\n",
    "    labels_GOP.y = None\n",
    "    if polls_GOP is None or polls_GOP.shape[0] == 0:\n",
    "        bar_fig_GOP.title=('Votes Received - '+value['data']['name'])\n",
    "        return\n",
    "    names_sc_GOP.domain = list(polls_GOP['candidate'].values)\n",
    "    bar_fig_GOP.title=('Votes Received - '+value['data']['name'])\n",
    "    vote_bars_GOP.x = list(polls_GOP['candidate'].values)\n",
    "    vote_bars_GOP.y = list(polls_GOP['votes'].values)\n",
    "    labels_GOP.x = np.zeros(len(polls_GOP))\n",
    "    labels_GOP.y = vote_bars_GOP.x\n",
    "    labels_GOP.text = list(polls_GOP['votes'].values)"
   ]
  },
  {
   "cell_type": "code",
   "execution_count": 21,
   "metadata": {},
   "outputs": [],
   "source": [
    "states_map_GOP.on_hover(hover_callback_GOP)\n",
    "states_map_GOP.tooltip = bar_fig_GOP"
   ]
  },
  {
   "cell_type": "code",
   "execution_count": 22,
   "metadata": {},
   "outputs": [
    {
     "data": {
      "application/vnd.jupyter.widget-view+json": {
       "model_id": "f81ec0e228bd408d87643789f4910017",
       "version_major": 2,
       "version_minor": 0
      },
      "text/plain": [
       "Figure(axes=[ColorAxis(scale=OrdinalColorScale(colors=['#ba3b3f', '#cfa41f', '#1a8888'], domain=['D. Trump', '…"
      ]
     },
     "metadata": {},
     "output_type": "display_data"
    }
   ],
   "source": [
    "map_fig_GOP"
   ]
  },
  {
   "cell_type": "code",
   "execution_count": null,
   "metadata": {},
   "outputs": [],
   "source": []
  }
 ],
 "metadata": {
  "kernelspec": {
   "display_name": "Python 3",
   "language": "python",
   "name": "python3"
  },
  "language_info": {
   "codemirror_mode": {
    "name": "ipython",
    "version": 3
   },
   "file_extension": ".py",
   "mimetype": "text/x-python",
   "name": "python",
   "nbconvert_exporter": "python",
   "pygments_lexer": "ipython3",
   "version": "3.7.4"
  }
 },
 "nbformat": 4,
 "nbformat_minor": 2
}
